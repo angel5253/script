{
 "cells": [
  {
   "cell_type": "markdown",
   "metadata": {},
   "source": [
    "### 문제 1\n",
    " - L=[1, 2, 3, 4, 5]일 때 다음 각 문장을 수행한 후의 결과를 보고 납득할 만한 이유를 설명하시오.\n",
    "     - 1) L[1:3] = [100]\n",
    "     - 2) L[1:3] = [(100)]\n",
    "     - 3) L[1:3] = 100\n",
    "     - 4) L[1:3] = (100)\n",
    "     - 5) L[1:3] = (100, 101, 102)\n",
    "     - 6) L[1:3] = [100, 101, 102]\n",
    "     - 7) L[1:3] = [(100, 101, 102)]\n",
    "     - 8) L[1:3] = [[100, 101, 102]]"
   ]
  },
  {
   "cell_type": "code",
   "execution_count": 2,
   "metadata": {},
   "outputs": [
    {
     "name": "stdout",
     "output_type": "stream",
     "text": [
      "[1, 100, 4, 5]\n"
     ]
    }
   ],
   "source": [
    "L = [1, 2, 3, 4, 5]\n",
    "#print(L[1:3])\n",
    "L[1:3] = [100]\n",
    "print(L)"
   ]
  },
  {
   "cell_type": "markdown",
   "metadata": {},
   "source": [
    "- 1) L[1:3] = [100]\n",
    " : L[1:3]은 [2, 3]이고, 리스트는 변경가능하다. 또한 리스트는 리스트 원소에 대한 슬라이스 치환이 가능한데, 서로 다른 크기에 대한 슬라이스 치환도 가능하다. 따라서 [2, 3]이 [100]으로 치환이 되므로, L은 [1, 100] 4, 5]가 출력된다."
   ]
  },
  {
   "cell_type": "code",
   "execution_count": 11,
   "metadata": {},
   "outputs": [
    {
     "name": "stdout",
     "output_type": "stream",
     "text": [
      "[1, 100, 4, 5]\n"
     ]
    }
   ],
   "source": [
    "L = [1, 2, 3, 4, 5]\n",
    "L[1:3] = [(100)]\n",
    "print(L)"
   ]
  },
  {
   "cell_type": "markdown",
   "metadata": {},
   "source": [
    "- 2) L[1:3] = [(100)] : 1번 문제처럼 L[1:3]은 [2,3]이고, 리스트는 변경가능하다. 또한 리스트는 리스트 원소에 대한 슬라이스 치환이 가능한데, 서로 다른 크기에 대한 슬라이스 치환도 가능하다. [(100)]은 튜플이 아닌 리스트이다. (100)이 만약 튜플이라면 (100, )처럼 되야 하기 때문에 [2, 3]이 100으로 치환되므로 L은 [1, 100, 4, 5]가 출력된다."
   ]
  },
  {
   "cell_type": "code",
   "execution_count": 12,
   "metadata": {},
   "outputs": [
    {
     "ename": "TypeError",
     "evalue": "can only assign an iterable",
     "output_type": "error",
     "traceback": [
      "\u001b[1;31m---------------------------------------------------------------------------\u001b[0m",
      "\u001b[1;31mTypeError\u001b[0m                                 Traceback (most recent call last)",
      "\u001b[1;32m<ipython-input-12-edc1b0549df9>\u001b[0m in \u001b[0;36m<module>\u001b[1;34m()\u001b[0m\n\u001b[0;32m      1\u001b[0m \u001b[0mL\u001b[0m \u001b[1;33m=\u001b[0m \u001b[1;33m[\u001b[0m\u001b[1;36m1\u001b[0m\u001b[1;33m,\u001b[0m \u001b[1;36m2\u001b[0m\u001b[1;33m,\u001b[0m \u001b[1;36m3\u001b[0m\u001b[1;33m,\u001b[0m \u001b[1;36m4\u001b[0m\u001b[1;33m,\u001b[0m \u001b[1;36m5\u001b[0m\u001b[1;33m]\u001b[0m\u001b[1;33m\u001b[0m\u001b[0m\n\u001b[1;32m----> 2\u001b[1;33m \u001b[0mL\u001b[0m\u001b[1;33m[\u001b[0m\u001b[1;36m1\u001b[0m\u001b[1;33m:\u001b[0m\u001b[1;36m3\u001b[0m\u001b[1;33m]\u001b[0m \u001b[1;33m=\u001b[0m \u001b[1;36m100\u001b[0m\u001b[1;33m\u001b[0m\u001b[0m\n\u001b[0m\u001b[0;32m      3\u001b[0m \u001b[0mprint\u001b[0m\u001b[1;33m(\u001b[0m\u001b[0mL\u001b[0m\u001b[1;33m)\u001b[0m\u001b[1;33m\u001b[0m\u001b[0m\n",
      "\u001b[1;31mTypeError\u001b[0m: can only assign an iterable"
     ]
    }
   ],
   "source": [
    "L = [1, 2, 3, 4, 5]\n",
    "L[1:3] = 100\n",
    "print(L)"
   ]
  },
  {
   "cell_type": "markdown",
   "metadata": {},
   "source": [
    "- 3) L[1:3] = 100 : L[1:3]은 [2, 3]으로 리스트이므로, 리스트 형식으로 치환이 되거나 저장이 된다. 하지만 100은 정수이므로 typeerror가 발생했다."
   ]
  },
  {
   "cell_type": "code",
   "execution_count": 10,
   "metadata": {},
   "outputs": [
    {
     "name": "stdout",
     "output_type": "stream",
     "text": [
      "<class 'int'>\n"
     ]
    }
   ],
   "source": [
    "L = [1, 2, 3, 4, 5]\n",
    "L[1:3] = (100)\n",
    "print(L)\n",
    "#a = (100)\n",
    "#print(type(a))"
   ]
  },
  {
   "cell_type": "markdown",
   "metadata": {},
   "source": [
    "- 4) L[1:3] = (100) :  L[1:3]은 [2, 3]으로 리스트이므로, 리스트 형식으로 치환이 되거나 저장이 된다. 하지만 (100)은 정수이기때문에 typeerror가 발생했다."
   ]
  },
  {
   "cell_type": "code",
   "execution_count": 14,
   "metadata": {},
   "outputs": [
    {
     "name": "stdout",
     "output_type": "stream",
     "text": [
      "[1, 100, 101, 102, 4, 5]\n"
     ]
    }
   ],
   "source": [
    "L = [1, 2, 3, 4, 5]\n",
    "L[1:3] = (100, 101, 102)\n",
    "print(L)"
   ]
  },
  {
   "cell_type": "markdown",
   "metadata": {},
   "source": [
    "- 5) L[1:3] = (100, 101, 102) : L[1:3]은 [2, 3]으로 리스트이고, (100, 101, 102)는 튜플이므로 치환이 가능하다. 따라서 L은 [1, 100, 101, 102, 4, 5]로 출력된다."
   ]
  },
  {
   "cell_type": "code",
   "execution_count": 15,
   "metadata": {},
   "outputs": [
    {
     "name": "stdout",
     "output_type": "stream",
     "text": [
      "[1, 100, 101, 102, 4, 5]\n"
     ]
    }
   ],
   "source": [
    "L = [1, 2, 3, 4, 5]\n",
    "L[1:3] = [100, 101, 102]\n",
    "print(L)"
   ]
  },
  {
   "cell_type": "markdown",
   "metadata": {},
   "source": [
    "- 6) L[1:3] = [100, 101, 102] : L[1:3]은 [2, 3]으로 리스트이고, [100, 101, 102]는 리스트이므로 치환이 가능하다. 따라서 L은 [1, 100, 101, 102, 4, 5]로 출력된다."
   ]
  },
  {
   "cell_type": "code",
   "execution_count": 16,
   "metadata": {},
   "outputs": [
    {
     "name": "stdout",
     "output_type": "stream",
     "text": [
      "[1, (100, 101, 102), 4, 5]\n"
     ]
    }
   ],
   "source": [
    "L = [1, 2, 3, 4, 5]\n",
    "L[1:3] = [(100, 101, 102)]\n",
    "print(L)"
   ]
  },
  {
   "cell_type": "markdown",
   "metadata": {},
   "source": [
    " - 7) L[1:3] = [(100, 101, 102)] : L[1:3]은 [2, 3]으로 리스트이고, [(100, 101, 102)]는 튜플을 원소로 가지는 리스트이므로 치환이 가능하다. 따라서 L은 [1, (100, 101, 102), 4, 5]로 출력된다."
   ]
  },
  {
   "cell_type": "code",
   "execution_count": 17,
   "metadata": {},
   "outputs": [
    {
     "name": "stdout",
     "output_type": "stream",
     "text": [
      "[1, [100, 101, 102], 4, 5]\n"
     ]
    }
   ],
   "source": [
    "L = [1, 2, 3, 4, 5]\n",
    "L[1:3] = [[100, 101, 102]]\n",
    "print(L)"
   ]
  },
  {
   "cell_type": "markdown",
   "metadata": {},
   "source": [
    " - 8) L[1:3] = [[100, 101, 102]] : L[1:3]은 [2, 3]으로 리스트이고, [(100, 101, 102)]는 리스트를 원소로 가지는 리스트이므로 치환이 가능하다. 따라서 L은 [1, [100, 101, 102], 4, 5]로 출력된다."
   ]
  },
  {
   "cell_type": "markdown",
   "metadata": {},
   "source": [
    "### 문제 2\n",
    "- 문자열 S = 'Hello World and Python'에 대해 다음 요구사항에 대한 Python 코드를 제시하시오.\n",
    "    - 1) 단어의 순서가 역순으로 되어진 문자열 ('Python and World Hello')을 만들고\n",
    "    - 2) 1)의 결과 문자열에 대해 메소드 split과 join을 이용하여 공백을 모두 없엔 문자열 'PythonandWorldHello'을 만드시오."
   ]
  },
  {
   "cell_type": "code",
   "execution_count": 24,
   "metadata": {},
   "outputs": [
    {
     "name": "stdout",
     "output_type": "stream",
     "text": [
      "Python and World Hello \n",
      "['Python', 'and', 'World', 'Hello']\n",
      "PythonandWorldHello\n"
     ]
    }
   ],
   "source": [
    "S = 'Hello World and Python'\n",
    "S1 = S[16:] + S[11:15] + S[5:12] + S[:6]\n",
    "print(S1)\n",
    "L = S1.split()\n",
    "print(L)\n",
    "S2 = ''.join(L)\n",
    "print(S2)"
   ]
  },
  {
   "cell_type": "markdown",
   "metadata": {},
   "source": [
    "- S문자열(Hello World and Python)을 슬라이싱을 이용해 'Python and World Hello' 문자열을 S1으로 생성했고, 생성된 S1을 공백을 기준으로 나누기 위해 split() 메소드를 사용했다. 공백을 기준으로 나뉘어진 리스트는 L에 저장이 되고, 리스트 원소를 합치기 위해 join()메소드를 사용했다. 합쳐진 문자열은 S2이고, 이를 출력했다. "
   ]
  },
  {
   "cell_type": "markdown",
   "metadata": {},
   "source": [
    "### 문제 3\n",
    " - 다음 코드를 보고 물음에 답하시오.\n",
    " \n",
    "         a = [1, 2, 3]\n",
    "         b = a * 3 \n",
    "         c = [a] * 3 \n",
    "         print(b) \n",
    "         print(c)\n",
    " \n",
    "    - 1) 위 코드를 수행한 이후 다음 코드를 수행한 후 b와 c의 내용을 확인하시오.\n",
    "             a[0]=0\n",
    "         \n",
    "    - 2) b와 c 객체의 차이는 무엇인가?"
   ]
  },
  {
   "cell_type": "code",
   "execution_count": 3,
   "metadata": {},
   "outputs": [
    {
     "name": "stdout",
     "output_type": "stream",
     "text": [
      "[1, 2, 3, 1, 2, 3, 1, 2, 3]\n",
      "[[1, 2, 3], [1, 2, 3], [1, 2, 3]]\n",
      "\n",
      "[1, 2, 3, 1, 2, 3, 1, 2, 3]\n",
      "[[0, 2, 3], [0, 2, 3], [0, 2, 3]]\n"
     ]
    }
   ],
   "source": [
    "a = [1, 2, 3]\n",
    "b = a * 3\n",
    "c = [a] * 3\n",
    "print(b)\n",
    "print(c)\n",
    "print()\n",
    "\n",
    "a[0] = 0\n",
    "print(b)\n",
    "print(c)"
   ]
  },
  {
   "cell_type": "markdown",
   "metadata": {},
   "source": [
    "- 1) : a[0] = 0을 수행한 이후 b의 내용은 [1, 2, 3, 1, 2, 3, 1, 2, 3]이고, c의 내용은 [[0, 2, 3], [0, 2, 3], [0, 2, 3]]이다.\n",
    "- 2) : a[0]을 0으로 대입했을 때, b는 리스트가 변하지 않았지만, c는 리스트가 변했다. 여기서 보면 알 수 있듯이, b = a x 3은 a의 리스트 내용은 같지만 객체는 다르므로 a의 리스트 값이 변하더라도 b는 영향을 받지 않는다. 반면, c = [a] x 3은 같은 객체를 가리키므로 a의 변화가 있으면 c도 영향을 받는 것이다."
   ]
  },
  {
   "cell_type": "markdown",
   "metadata": {},
   "source": [
    "### 문제 4\n",
    " - 다음 문자열을 ':'을 기준으로 분리하여 리스트로 만들고 각 문자열의 좌우 공백을 제거하시오 (즉, 문자열 S에서 l을 만들어라)\n",
    " \n",
    "       s = '  first star   :   second star   :    third star  '\n",
    "       l = ['first star', 'second star', 'third star']\n",
    "    - 1) for ~ in 문을 이용한 코드를 작성하시오.\n",
    "    - 2) 리스트 내포(list comprehension)를 이용한 코드를 작성하시오."
   ]
  },
  {
   "cell_type": "code",
   "execution_count": 47,
   "metadata": {},
   "outputs": [
    {
     "name": "stdout",
     "output_type": "stream",
     "text": [
      "['first star', 'second star', 'third star']\n"
     ]
    }
   ],
   "source": [
    "s = ' first star : second star : third star '\n",
    "l = s.split(':')\n",
    "\n",
    "for i in range(0, len(l)):\n",
    "    l[i] = l[i].strip()\n",
    "print(l)"
   ]
  },
  {
   "cell_type": "markdown",
   "metadata": {},
   "source": [
    "- 1) for~in문 : 문자열 s를 ':'를 기준으로 나누기 위해 split(':')메소드를 사용했으며, ':'를 기준으로 나뉜 문자열들은 리스트 l에 저장이 됐다. 각 문자열은 좌우 공백을 제거해야 하므로 for~in문(반복문)을 사용했다. 변수 i는 0부터 리스트 l길이만큼 반복되며, 좌우 공백 제거를 위해 strip() 메소드를 사용했고, 공백 제거된 문자열을 다시 리스트 원소에 대입해줬다."
   ]
  },
  {
   "cell_type": "code",
   "execution_count": 13,
   "metadata": {},
   "outputs": [
    {
     "name": "stdout",
     "output_type": "stream",
     "text": [
      "['first star', 'second star', 'third star']\n"
     ]
    }
   ],
   "source": [
    "s = ' first star : second star : third star '\n",
    "l = s.split(':')\n",
    "\n",
    "l = [l[i].strip() for i in range(0, len(l))]\n",
    "print(l)"
   ]
  },
  {
   "cell_type": "markdown",
   "metadata": {},
   "source": [
    "- 2) 리스트 내포 : 문자열 s를 ':'를 기준으로 나누기 위해 split(':')메소드를 사용했으며, ':'를 기준으로 나뉜 문자열들은 리스트 l에 저장이 됐다. 리스트 내포를 이용해야 하므로 리스트 안에 반복문을 넣었다. 반복문의 변수 i는 0부터 리스트 l길이만큼 반복되며, 각 문자열(리스트 i위치의 원소)을 strip() 메소드를 이용해 좌우 공백을 제거했다."
   ]
  },
  {
   "cell_type": "markdown",
   "metadata": {},
   "source": [
    "### 문제 5\n",
    "- 다음과 같이 0보다 큰 정수 리스트 변수 list를 인자로 받는 함수 addall(list)와 addallodd(list)를 for ~ in 리터널과 리스트 내포 방식으로 각각 제시하시오.\n",
    "    - 1) addall(list) 함수 (리스트 내의 모든 정수를 더하는 함수로서 해답으로는 for ~ in 리터럴과 리스트 내포 방식으로 각각 제시하시오.)\n",
    "         \n",
    "          >>> addall([1])\n",
    "          1\n",
    "          \n",
    "          >>> addall([1, 2, 3, 4, 5, 6, 7, 8, 9])\n",
    "          45\n",
    "    - 2) addallodd(list) 함수 (리스트내의 모든 홀수를 더하는 함수로서 해답으로는 for ~ in 리터럴과 리스트 내포 방식으로 각각 제시하시오.)\n",
    "    \n",
    "          >>> addallodd([1])\n",
    "          1\n",
    "          \n",
    "          >>> addallodd([1, 2, 3, 4, 5, 6, 7, 8, 9])\n",
    "          25\n",
    "    - [참고 1]: 리스트 내포 방식으로 addall() 및 addallodd()함수를 만들 때엔 리스트 내포에 의해 생성된 리스트 결과에 대해 내장 함수를 사용하는 방식을 고려해보시오 (주의: 리스트 내포 방식의 addall() 및 addallodd() 함수의 몸체는 단 1줄로 작성되어야 한다.)\n",
    "    - [참고 2]: sum() 등의 내장함수 사용 가능함\n"
   ]
  },
  {
   "cell_type": "code",
   "execution_count": 6,
   "metadata": {},
   "outputs": [
    {
     "name": "stdout",
     "output_type": "stream",
     "text": [
      "1\n",
      "45\n"
     ]
    }
   ],
   "source": [
    "def addall(list):\n",
    "    sum = 0\n",
    "    for i in range(0, len(list)):\n",
    "        sum += list[i]\n",
    "    return sum\n",
    "\n",
    "print(addall([1]))\n",
    "print(addall([1, 2, 3, 4, 5, 6, 7, 8, 9]))"
   ]
  },
  {
   "cell_type": "markdown",
   "metadata": {},
   "source": [
    "- 1) addall(list) 함수, for~in문 : def로 addall함수를 정의하고, 리스트 내의 모든 정수를 더하기 위해 for~in문을 사용한다. 반환되는 sum은 0으로 초기화를 하고, 반복문의 변수 i는 0부터 리스트 길이만큼 sum에 각 리스트 정수 값을 더해준다. 그리고 sum을 반환하고, 함수를 호출한다."
   ]
  },
  {
   "cell_type": "code",
   "execution_count": 2,
   "metadata": {},
   "outputs": [
    {
     "name": "stdout",
     "output_type": "stream",
     "text": [
      "1\n",
      "45\n"
     ]
    }
   ],
   "source": [
    "def addall2(list):\n",
    "    return sum([list[i] for i in range(0, len(list))])\n",
    "\n",
    "print(addall2([1]))\n",
    "print(addall2([1, 2, 3, 4, 5, 6, 7, 8, 9]))"
   ]
  },
  {
   "cell_type": "markdown",
   "metadata": {},
   "source": [
    "- 1) addall2(list) 함수, 리스트 내포 :def로 addall2함수를 정의하고, 리스트 내포를 이용해야 하므로 리스트 안에 반복문을 넣었다. sum()내장함수를 이용해 각 리스트의 값들의 합을 반환한다. 변수 i는 0부터 리스트 길이만큼 반복한다."
   ]
  },
  {
   "cell_type": "code",
   "execution_count": 3,
   "metadata": {},
   "outputs": [
    {
     "name": "stdout",
     "output_type": "stream",
     "text": [
      "1\n",
      "25\n"
     ]
    }
   ],
   "source": [
    "def addallodd(list):\n",
    "    sum = 0\n",
    "    for i in range(0, len(list)):\n",
    "        if(list[i] % 2):\n",
    "            sum += list[i]\n",
    "    return sum\n",
    "\n",
    "print(addallodd([1]))\n",
    "print(addallodd([1, 2, 3, 4, 5, 6, 7, 8, 9]))"
   ]
  },
  {
   "cell_type": "markdown",
   "metadata": {},
   "source": [
    "- 2) addallodd(list) 함수, for~in문 : def로 addallodd함수를 정의하고, 리스트 내의 모든 홀수 정수를 더하기 위해 for~in문을 사용한다. 반환되는 sum은 0으로 초기화를 하고, 반복문의 변수 i는 0부터 리스트 길이만큼 반복된다. list[i]가 홀수인지 알아보기 위해 lf(list[i] % 2) 조건문이 true인 경우 sum에 각 리스트 정수 값을 더해준다. 그리고 sum을 반환하고, 함수를 호출한다."
   ]
  },
  {
   "cell_type": "code",
   "execution_count": 5,
   "metadata": {},
   "outputs": [
    {
     "name": "stdout",
     "output_type": "stream",
     "text": [
      "1\n",
      "25\n"
     ]
    }
   ],
   "source": [
    "def addallodd2(list):\n",
    "    return sum([list[i] for i in range(0, len(list)) if(list[i] % 2)])\n",
    "\n",
    "print(addallodd2([1]))\n",
    "print(addallodd2([1, 2, 3, 4, 5, 6, 7, 8, 9]))"
   ]
  },
  {
   "cell_type": "markdown",
   "metadata": {},
   "source": [
    "- 2) addallodd2(list) 함수, 리스트 내포 :def로 addallodd2함수를 정의하고, 리스트 내포를 이용해야 하므로 리스트 안에 반복문을 넣었다. sum()내장함수를 이용해 모든 홀수 값들의 합을 반환한다. 홀수 값을 구별하기 위해 if(list[i] % 2)를 추가해줬다. 변수 i는 0부터 리스트 길이만큼 반복한다."
   ]
  },
  {
   "cell_type": "markdown",
   "metadata": {},
   "source": [
    "### 문제 6\n",
    " - 다음 코드를 보고 물음에 답하시오.\n",
    "       L1 = [1, 2, 3]\n",
    "       L2 = [4, 5, 6]\n",
    "       d = {'low':L1, 'high':L2}\n",
    "       e = d\n",
    "       f = d.copy()\n",
    "       print(d)\n",
    "       print(e)\n",
    "       print(f)\n",
    "       print()\n",
    "       d['low'] = [10, 20, 30]\n",
    "       d['high'][1] = 500\n",
    "       print(d)\n",
    "       print(e)\n",
    "       print(f)\n",
    "       \n",
    "   - 1) 위 코드의 수행 결과 d와 e는 항상 같은 결과를 출력한다. 그 이유는 무엇인가?\n",
    "   - 2) 위 코드의 수행 결과 마지막 f의 내용은 다음과 같다. 이 때 'high' 키의 값 내용 중 500이 출력된 이유와 'low' 키의 값 내용 중 [1, 2, 3]이 출력된 이유를 설명하시오 ([hint]: shallow copy 관점에서 설명하시오.)\n",
    "           {'high': [4, 500, 6], 'low': [1, 2, 3]}\n",
    "     "
   ]
  },
  {
   "cell_type": "code",
   "execution_count": 6,
   "metadata": {},
   "outputs": [
    {
     "name": "stdout",
     "output_type": "stream",
     "text": [
      "{'low': [1, 2, 3], 'high': [4, 5, 6]}\n",
      "{'low': [1, 2, 3], 'high': [4, 5, 6]}\n",
      "{'low': [1, 2, 3], 'high': [4, 5, 6]}\n",
      "\n",
      "{'low': [10, 20, 30], 'high': [4, 500, 6]}\n",
      "{'low': [10, 20, 30], 'high': [4, 500, 6]}\n",
      "{'low': [1, 2, 3], 'high': [4, 500, 6]}\n"
     ]
    }
   ],
   "source": [
    "L1 = [1, 2, 3]\n",
    "L2 = [4, 5, 6]\n",
    "d = {'low':L1, 'high':L2}\n",
    "e = d\n",
    "f = d.copy()\n",
    "print(d)\n",
    "print(e)\n",
    "print(f)\n",
    "print()\n",
    "d['low'] = [10, 20, 30]\n",
    "d['high'][1] = 500\n",
    "print(d)\n",
    "print(e)\n",
    "print(f)"
   ]
  },
  {
   "cell_type": "markdown",
   "metadata": {},
   "source": [
    "- 1) : e = d인 경우는, 사전 레퍼런스를 복사하는 것이다. 사전 객체는 공유되는 것이므로 d를 변경하면 e도 함께 변경된다. 따라서 d와 e는 항상 같은 값을 출력한다.\n",
    "- 2) : f = d.copy()인 경우는, 사전을 복사한 것으로, 별도의 사전 객체가 마련된다. d가 바뀌어도 f는 변경되지 않는다. 이는 shallow copy(얕은 복사)를 수행하기 때문이다. 따라서 'low'의 키 값은 [10, 20, 30]이 아닌 [1, 2, 3]이 출력된 것이다. 하지만, 'high' 키의 값 내용 중 5가 500으로 바뀔 수 있었던 이유는, [4, 5, 6]인 리스트이기 때문에 변경이 된 것이다."
   ]
  },
  {
   "cell_type": "markdown",
   "metadata": {},
   "source": [
    "### 문제 7\n",
    " - 사전 d = {'one':1, 'two':2, 'three':3, 'four':4, 'five':5}가 주어졌을 때 다음 요구사항에 맞는 코드를 제시하시오\n",
    "    - [참고]: d.keys(), d.values()를 통해 리스트를 얻어낸 후 리스트가 지니고 있는 sort(cmp=None, key=None, reverse=False)함수를 활용하시오.\n",
    "    - 1) 키의 알파벳 오름차순 순서대로 튜플 (키, 값)을 차례대로 출력하시오.\n",
    "    - 2) 키의 알파벳 내림차순 순서대로 튜플 (키, 값)을 차례대로 출력하시오.\n",
    "    - 3) 값의 오름차순 순서대로 튜플 (키, 값)을 차례대로 출력하시오.\n",
    "    - 4) 값의 내림차순 순서대로 튜플 (키, 값)을 차례대로 출력하시오."
   ]
  },
  {
   "cell_type": "code",
   "execution_count": 36,
   "metadata": {},
   "outputs": [
    {
     "name": "stdout",
     "output_type": "stream",
     "text": [
      "[('five', 5), ('four', 4), ('one', 1), ('three', 3), ('two', 2)]\n",
      "[('two', 2), ('three', 3), ('one', 1), ('four', 4), ('five', 5)]\n",
      "[('one', 1), ('two', 2), ('three', 3), ('four', 4), ('five', 5)]\n",
      "[('five', 5), ('four', 4), ('three', 3), ('two', 2), ('one', 1)]\n"
     ]
    }
   ],
   "source": [
    "d = {'one':1, 'two':2, 'three':3, 'four':4, 'five':5}\n",
    "lkeys = d.keys()\n",
    "lvalues = d.values()\n",
    "litems = d.items()\n",
    "\n",
    "def cmp_key(litems):\n",
    "    return litems[0]\n",
    "\n",
    "def cmp_value(litems):\n",
    "    return litems[1]\n",
    "\n",
    "d1 = sorted(litems, key=cmp_key)\n",
    "print(d1)\n",
    "\n",
    "d2 = sorted(litems, key=cmp_key, reverse = True)\n",
    "print(d2)\n",
    "\n",
    "d3 = sorted(litems, key=cmp_value)\n",
    "print(d3)\n",
    "\n",
    "d4 = sorted(litems, key=cmp_value, reverse = True)\n",
    "print(d4)"
   ]
  },
  {
   "cell_type": "markdown",
   "metadata": {},
   "source": [
    "- 사전의 키는 lkeys에, 사전의 값은 lvalues에, 사전의 키와 값은 튜플로 litems에 저장이 된다. 사전의 키를 저장하기 위해 d.keys()를, 사전의 값을 저장하기 위해서는 d.values(), 사전의 키와 값을 튜플로 저장하기 위해서는 d.items()메소드를 사용한다.\n",
    "- 1) 키의 알파벳 오름차순 : def로 cmp_key를 정의하고, 반환값은 사전의 키와 값이 튜플형태로 저장되있는 litems에서 키이다. 오름차순으로 출력해야 하기 때문에 sorted 함수의 두번째 인자로 key를 cmp_key로 지정한다.\n",
    "- 2) 키의 알파벳 내림차순 : 키의 알파벳 오름차순에서, 인자로 reverse를 지정해 reverse = True로 지정한다.\n",
    "- 3) 값의 오름차순 : def로 cmp_value()를 정의하고, 반환값은 사전의 키와 값이 튜플형태로 저장되있는 litems에서 값이다. 오름차순으로 출력해야 하기 때문에 sorted 함수의 두번째 인자로 key를 cmp_value로 지정한다.\n",
    "- 4) 값의 내림차순 : 값의 오름차순에서, 인자로 reverse를 지정해 reverse = True로 지정한다."
   ]
  },
  {
   "cell_type": "markdown",
   "metadata": {},
   "source": [
    "### 문제 8(ACM-ICPC 1152번)\n",
    " - 영어 대소문자와 띄어쓰기만으로 이루어진 문장이 주어진다. 이 문장에는 몇 개의 단어가 있을까? 이를 구하는 프로그램을 작성하시오. 단, 단어는 띄어쓰기 하나로 구분된다고 생각한다."
   ]
  },
  {
   "cell_type": "code",
   "execution_count": 37,
   "metadata": {},
   "outputs": [
    {
     "name": "stdout",
     "output_type": "stream",
     "text": [
      "The Curious Case of Benjamin   Button  \n",
      "6\n"
     ]
    }
   ],
   "source": [
    "S = input()\n",
    "ls = S.split(' ')\n",
    "list = []\n",
    "for i in range(len(ls)):\n",
    "    if(ls[i].isalpha()):\n",
    "        list.append(ls[i])\n",
    "num = len(list)\n",
    "print(num)"
   ]
  },
  {
   "cell_type": "markdown",
   "metadata": {},
   "source": [
    "![1152](https://github.com/angel5253/script/blob/master/1152.png?raw=true)"
   ]
  },
  {
   "cell_type": "markdown",
   "metadata": {},
   "source": [
    "- 문자열을 입력받고, 띄어쓰기를 기준으로 구분해야 하기 때문에 split(' ')메소드를 사용했다. 띄어쓰기를 기준으로 나눠진 문자열은 ls라는 리스트에 저장이 된다. 이 중 단어만 추출해야 하므로 isalpha()라는 메소드와 반복문을 사용해, 영문자이면 새로운 리스트 list에 추가를 했다.(list.append(ls[i]) 이후 단어의 개수를 세기 위해 len()메소드를 썼고, 이를 출력했다."
   ]
  },
  {
   "cell_type": "markdown",
   "metadata": {},
   "source": [
    "### 문제 9\n",
    " - 이전 Assignment 2의 마지막 문제는 웹 URL로 지정된 웹페이지를 문자열로 가져와 모든 HTML 태그 및 CSS와 Javascript를 제외한 순수 텍스트를 얻어내고 그 안에 존재하는 단어를 추출하고 단어들의 총 개수를 출력하는 프로그램을 작성하는 것이었다. 이번에는 그 마지막 숙제를 그대로 확장하여 웹 URL로 지정된 웹페이지 내 순수 텍스트 안에 존재하는 각 단어들에 대해 다음 요구사항 대로 출력하는 프로그램을 작성하시오.\n",
    "    - 요구사항 1. 순수 텍스트 안에 존재하는 단어들에 대해 string 모듈을 활용하여 모든 punctuation (구두문자)를 완벽히 제거하시오.\n",
    "        - 예: ['world!', ':', '+hello+', '~python$$$', '=', 'world'] ---> ['world', 'hello', 'python', 'world']\n",
    "        - 모든 punctuation을 확인하는 방법은 아래와 같다.\n",
    "                import string\n",
    "                print(string.punctuation)\n",
    "                \n",
    "    - 요구사항 2. 만약 punctuation (구두문자)를 제거한 이후 공백으로 판명되는 단어들은 해당 단어 리스트에서 제거하시오.\n",
    "        - 예: ['컴퓨터공학부!', '---?', '%지향~', '...'] ---> ['컴퓨터공학부', '지향']\n",
    "    - 요구사항 3. 각 단어들의 출현빈도를 사전형태로 저장하여 출력하시오.\n",
    "        - 예: ['world', 'hello', 'python', 'world', '컴퓨터공학부', '지향'] ---> {'world': 2, 'hello': 1, 'python': 1, '컴퓨터공학부': 1, '지향': 1}\n",
    "    - 요구사항 4. 다음 3개의 사이트에 대한 결과를 출력하시오.\n",
    "        - http://www.naver.com\n",
    "        - http://www.daum.net\n",
    "        - http://www.nytimes.com"
   ]
  },
  {
   "cell_type": "code",
   "execution_count": 5,
   "metadata": {},
   "outputs": [
    {
     "name": "stdout",
     "output_type": "stream",
     "text": [
      "{'display': 1, 'link': 1, '사이트로': 1, '바로': 2, '이동': 3, 'query': 1, 'intend': 1, 'txt': 2, '바로이동': 1, 'in': 3, 'mismatch': 4, 'before': 2, 'match': 2, 'after': 2, '메일': 1, '카페': 1, '블로그': 1, '지식인': 1, '쇼핑': 1, '네이버페이': 1, '네이버TV': 1, '사전': 1, '뉴스': 2, '증권': 1, '금융': 1, '부동산': 1, '지도': 1, '영화': 2, '뮤직': 2, '책': 1, '만화': 1, '웹툰': 2, '더보기': 1, '실시간': 2, '급상승': 3, '검색어': 1, '1': 3, '김주혁': 7, '2': 4, '교통사고': 2, '3': 2, '이유영': 2, '4': 2, '김무생': 2, '5': 2, '도민호': 2, '6': 2, '육각수': 2, '7': 3, '아르곤': 2, '8': 2, '1박2일': 2, '9': 2, '트와이스': 4, 'likey': 2, '10': 4, '유아인': 2, '11': 4, '공조': 2, '12': 2, '13': 2, '김선빈': 2, '14': 2, '반드시': 2, '잡는다': 2, '15': 2, '국민연금': 2, '16': 2, '2017': 3, '멜론뮤직어워드': 2, '17': 2, '멜론티켓': 2, '18': 2, '케빈': 2, '스페이시': 2, '19': 2, '방탄소년단': 2, '콘서트': 2, '20': 3, '기억의': 2, '밤': 2, 'DataLab': 1, '트래킹': 1, '10위': 1, '20위': 1, '데이터랩': 20, '그래프': 20, '보기': 20, '30': 2, '47': 1, '00': 1, '기준': 1, '도움말': 1, '연합뉴스': 1, '朴국정원': 1, '左성향단체': 1, '15곳·문제인물': 1, '249명': 1, '블랙리스트': 1, '작성': 1, '강남': 1, '삼성동': 1, '교통사고로': 1, '사망…향년': 1, '45세': 1, '검찰': 1, '경영비리': 1, '롯데': 1, '신동빈': 1, '징역': 1, '10년': 2, '구형': 1, '洪': 2, '朴제명': 1, '강행': 1, '친박': 1, '직무정지': 1, '康외교': 1, '조만간': 1, '사드소식': 1, '발표': 1, '…한중': 1, '사드합의': 1, '임박': 1, '500선': 1, '첫발': 1, '코스피': 1, '000서': 1, '걸렸다': 1, '종료': 1, '하루앞두고': 1, '국감': 1, '정상화…공방속': 1, '곳곳': 1, '정회': 1, '김재철': 1, 'MBC': 1, '前사장': 1, '국정원': 1, '직원': 1, '만난적': 1, '없다': 1, '미성년자': 1, '유인': 1, '이영학': 1, '딸': 1, '구속…': 1, '구속사유': 1, '있어': 1, '31일': 1, '아침도': 1, '추워요…최저기온': 1, '4∼8도': 1, '네이버뉴스': 1, '연예': 2, '스포츠': 5, '경제': 2, '랭킹': 1, '뉴스스탠드': 1, '전체': 3, '언론사': 5, 'MY': 1, '이미지형': 1, '리스트형': 1, '설정': 3, '이전': 2, '페이지': 2, '다음': 2, '목록': 3, '구독': 19, '해지': 18, '기사보기': 18, '종합': 1, '방송': 1, '통신': 1, 'IT': 1, '영자지': 1, '매거진': 1, '전문지': 1, '지역': 1, '설정한': 3, '언론사가': 1, '없습니다': 1, '설정에서': 1, 'MY언론사를': 1, '추가하면': 1, '언론사의': 1, '기사들을': 1, '네이버': 6, '홈에서': 1, '보실': 1, '수': 2, '있습니다': 2, '추가': 1, 'Sign': 3, 'Connect': 1, 'with': 1, 'people': 1, 'NAVER': 2, 'up': 1, 'Forgot': 1, 'Username': 1, 'or': 1, 'Password': 1, '월': 1, '앞의': 1, '목록으로': 2, '뒤의': 1, '야구': 1, 'LIVE': 2, 'KS': 1, 'TV중계': 1, 'KIA': 1, 'vs': 2, '두산': 1, '농구': 1, 'TV': 1, 'KEB하나': 1, '삼성생명': 1, '일반': 1, '김연아': 1, 'quot': 2, '평창올림픽': 1, '열기': 2, '뜨거워질': 1, '것': 1, '주제형': 1, '캐스트': 1, '관심': 4, '주제': 9, '선택': 1, '리빙': 1, '푸드': 2, '자동차': 1, '패션뷰티': 1, '맘·키즈': 1, '건강': 1, '게임': 1, 'TV연예': 1, '책문화': 1, '함께N': 1, '여행': 1, '디자인': 1, '경제M': 1, 'JOB': 1, '과학': 1, '중국': 1, '비즈니스': 3, 'FARM': 2, '스쿨잼': 1, '공연전시': 1, '법률': 1, '동물공감': 1, '연애·결혼': 1, '테크': 1, 'name': 4, 'if': 2, 'isNewPanel': 1, 'NEW': 1, '를': 2, '관심주제로': 1, '설정하시겠습니까': 1, '확인': 3, '취소': 3, '모바일에서': 1, '가져오시겠습니까': 1, '닫기': 1, '관심주제': 1, '모바일': 2, '가져오기': 2, '로그인': 2, '후': 2, '사용': 2, '가능합니다': 2, '초기화': 1, '전체선택': 1, '흙냄새': 1, '새소리를': 1, '손에': 1, '담다': 1, '대한민국': 1, '넘버1': 1, '농어촌포털': 1, '㈜아그로플러스': 1, '인생': 1, '역전': 1, '스토리': 1, '고졸': 1, '9급으로': 1, '시작해': 1, '차관급': 1, '자리에': 1, '오른': 1, '농업인': 2, '놀람주의': 1, '이': 1, '참치초밥엔': 1, '참치가': 1, '1g도': 1, '안': 1, '들어': 1, '알고': 3, '먹읍시다': 3, '더': 2, '달고': 1, '신맛': 1, '덜한': 1, '납작': 1, '복숭아': 1, '한국에서도': 1, '키워요': 1, '김장용': 1, '배추': 1, '키울': 1, '때': 1, '잎을': 1, '묶어줘야': 1, '하나요': 1, '도시농부': 2, '표고': 1, '어느': 1, '것이': 1, '중국산': 1, '갓': 1, '뒷면에': 1, '있는': 1, 'OO을': 1, '보세요': 1, '미국': 1, '농사보다': 1, '맥도날드에서': 1, '일하는': 1, '게': 1, '돈': 1, '벌어···': 1, '귀농귀촌': 1, 'ABC': 1, '천연': 1, '설거지': 1, '수세미': 1, '밭에서': 1, '키워서': 1, '만들기': 1, '강원': 1, '평창': 1, '한우와': 1, '메밀로': 1, '차린': 1, '올림픽': 1, '맛보기': 1, '농어촌GO': 1, '요구르트에': 1, '넣어': 1, '갈아먹고': 1, '차로도': 1, '끓여먹을': 1, '있어요': 1, '솔방울': 1, '닮은': 1, '약초': 1, '1991년10월30일': 1, '한국에': 1, '생긴': 1, '맥줏집': 1, '히틀러': 1, '논란': 1, '그': 1, '시절': 1, '오늘': 1, '옥정호': 1, '붕어섬의': 1, '아름다움': 1, '감상해볼까요': 1, '농촌': 1, '경관': 1, '사진': 1, '실파': 1, '쪽파': 1, '대파': 1, '라면에': 1, '넣을': 1, '땐': 1, '이렇게': 1, '해보세요': 1, '먹거리': 1, '꽃농부': 1, '그녀': 1, '팬지': 1, '화분': 1, '4만개를': 1, '버려야했던': 1, '사연은': 1, '청년': 1, '이건': 1, '갈대': 1, '억새': 1, '구분하는': 1, '방법': 1, '알려드립니다': 1, '볼': 1, '때마다': 1, '헷갈려요': 1, '쇼핑캐스트': 1, 'https': 1, 'castbox': 1, 'shopping': 1, 'naver': 1, 'com': 1, 'shopbox': 1, 'main': 1, 'nhn': 1, 'svgless': 1, 'true': 1, '제2회': 1, '소상공인의날': 1, '우리동네': 1, '소상공인': 1, '축제': 1, '전국의': 1, '작은가게를': 1, '응원하고': 1, '다양한': 1, '혜택도': 1, '누리세요': 1, 'D2SF': 1, 'X': 1, '엘리스': 1, '인공지능': 2, '수업': 1, '오픈': 2, '카이스트선생님': 1, '서울대조교': 1, '실습중심\\u200b': 1, '공지사항': 1, '주': 1, '이스트소프트': 1, '계정': 1, '침해': 1, '대상자에': 1, '대한': 1, '안내': 2, '서비스': 1, '전체보기': 1, '프로젝트': 2, '꽃': 2, '바로가기': 2, '스피커': 2, '프렌즈': 1, '클로바': 1, 'AI': 1, 'Creators': 1, '크리에이터': 1, '스몰비즈니스': 1, 'Partners': 1, '파트너': 1, '·': 1, '광고': 1, '스토어': 1, '개설': 1, '지역업체': 1, '등록': 1, 'Developers': 1, '개발자센터': 1, 'API': 1, '오픈소스': 1, 'D2': 1, '랩스': 1, '정책': 2, '및': 1, '약관': 1, '회사소개': 1, '인재채용': 1, '제휴제안': 1, '이용약관': 1, '개인정보처리방침': 1, '청소년보호정책': 1, '고객센터': 1, 'ⓒ': 1, 'Corp': 1}\n"
     ]
    }
   ],
   "source": [
    "from urllib import request \n",
    "import string\n",
    " \n",
    "url = 'http://naver.com'\n",
    "f = request.urlopen(url)\n",
    "source_bytes = f.read()\n",
    "source = source_bytes.decode('utf-8')\n",
    "\n",
    "i = 0\n",
    "a = 0\n",
    "\n",
    "# HTML태그\n",
    "for i in range(0, source.count('<!--')):\n",
    "    if source.find('<!--') != -1:\n",
    "        source = source.replace(source[source.find('<!--'):source.find('-->')+3:], \" \")\n",
    "\n",
    "for i in range(0, source.count('<')):\n",
    "    if source.find('<') != -1:\n",
    "        source = source.replace(source[source.find('<'):source.find('>')+1:], \" \")\n",
    "    # CSS 제외\n",
    "    if source.find('style') != -1:\n",
    "        source = source.replace(source[source.find('style'):source.find('</style>')+8:], \"\")\n",
    "     # Java script 제외\n",
    "    if source.find('script') != -1:\n",
    "        source = source.replace(source[source.find('script'):source.find('</script>')+9:], \"\")\n",
    "\n",
    "List = source.split()\n",
    "#print(List)\n",
    "#print('단어수: ', len(List))\n",
    "\n",
    "st = ' '.join(List)\n",
    "\n",
    "List = list(st)\n",
    "#print(List)\n",
    "\n",
    "#구두문자 제거\n",
    "for i in range(0, len(List)):\n",
    "    for j in range(0, len(string.punctuation)):\n",
    "        if(List[i] == string.punctuation[j]):\n",
    "            List[i] = ' '\n",
    "\n",
    "st = ''.join(List)\n",
    "\n",
    "#구두문자가 제거된 문자열을 리스트로\n",
    "lst = st.split()\n",
    "#print(lst)\n",
    "\n",
    "\n",
    "# 사전\n",
    "dic = dict()\n",
    "for n in lst:\n",
    "    if n in dic:\n",
    "        dic[n] += 1\n",
    "    else:\n",
    "        dic[n] = 1\n",
    "        \n",
    "# 사전을 리스트로 만들어 출력\n",
    "listkey = dic.keys()\n",
    "listvalue = dic.values()\n",
    "\n",
    "# 각 단어들의 출력빈도를 사전형태로 출력\n",
    "print(dict(zip(listkey, listvalue)))"
   ]
  },
  {
   "cell_type": "markdown",
   "metadata": {},
   "source": [
    "- 저번 과제의 마지막 문제 소스코드에서 find()와 replace()메소드를 사용해 자바스크립트와 CSS를 지웠다. 자바스크립트 문법인 script와 CSS문법인 style를 count()메소드를 받아 그 개수만큼 반복문을 이용해 소스파일에서 제외를 시켰다.\n",
    "- HTML 태그, 자바스크립트, CSS를 제외한 소스 중 구두문자를 제거하기 위해 변경이 문자열을 리스트로 만들었다. 2중 for문을 이용해 List의 값 하나하나와 string.punctuation 안의 구두문자와 비교해, 같은 것이 있으면 공백으로 변경했다.\n",
    "- 구두문자가 제거된 리스트를 joing으로 문자열로 마들어주고, 공백을 기준으로 다시 나누는 split()메소드로 공백을 제거한 리스트로 만들었다.\n",
    "- 사전을 만들기 위해 dic = dict()메소드를 이용해 빈 사전을 만들고, 2중 for문으로 구두문자와 공백이 제거된 리스트를 반복해 단어가 dic 사전에 없드면 추가하고, 있다면 출현빈도를 증가시키기 위해 1을 증가시켜준다.\n",
    "- dic사전에 키는 단어로, 값은 출현빈도로 저장이 되어있다. 이를 사전 형식으로 출력하기 위해 키와 값을 리스트로 만드는 dic.keys(), dic.values() 메소드를 생성해 listkey에는 키가, listvalue에는 값이 저장됐다.\n",
    "- 단어와 출현빈도를 사전 형식으로 출력하기 위해 dict(zip(listkey, listvalue)로, 즉 zip() 메소드를 사용해 출력했다."
   ]
  },
  {
   "cell_type": "code",
   "execution_count": 20,
   "metadata": {},
   "outputs": [
    {
     "name": "stdout",
     "output_type": "stream",
     "text": [
      "{'Daum': 1, '주요': 2, '서비스': 3, '바로가기': 11, '오늘의': 5, '정보': 7, '미디어': 2, '실시간': 4, '이슈': 4, '멀티미디어': 2, '블로그': 3, '유익한': 2, '쇼핑': 3, '포토': 5, 'amp': 2, '영상': 1, '웹': 1, '접근성': 1, '안내': 2, '자동실행': 1, '광고': 1, '설정': 1, '검색': 6, '통합': 2, '인기': 1, '검색어': 3, '수지': 1, '시구': 1, '공무원': 1, '기대소득': 1, '강다니엘': 1, '런닝맨': 1, '차준환': 1, '9위': 6, '황반변성': 1, '환자': 1, '증가': 1, '믹스나인': 6, '첫방': 1, '양현종': 1, '스마트기기': 1, '미우새': 1, '손태영': 7, '황인춘': 2, '우승': 2, '한국인': 1, '대마도': 1, 'lt': 5, '이전': 7, 'gt': 5, '다음': 8, '다음을': 1, '시작페이지로': 1, '카페': 2, '메일': 1, '뉴스': 3, '지도': 1, '증권': 1, '카카오TV': 2, '웹툰': 2, '브런치': 2, '사전': 1, '게임': 3, '별플레이': 1, '같이가치': 2, '선택됨': 1, '1탭': 1, '촛불': 1, '그': 2, '후': 1, '1년': 1, '적폐청산·더': 1, '강한': 1, '개혁': 1, '이수근': 2, '3부자': 1, '보고싶은': 1, '엄마와': 1, '통화': 1, '일반뉴스': 1, '11월': 1, '초': 1, '뜨거운': 1, '정상외교': 1, '이벤트': 2, '39': 20, '살얼음판': 1, '한반도': 1, '녹일까': 1, '독립투표': 1, '강행': 1, '역풍': 1, '이라크': 1, '쿠르드수반': 1, '12년': 1, '통치': 1, '마감': 1, '日': 1, '정부': 1, '홈피에': 1, 'quot': 8, '독도': 2, '일본땅': 1, '학교': 1, '부교재': 1, '게재': 1, '또': 2, '도발': 1, '캄차카': 1, '조선인의': 1, '恨': 1, '수난': 1, '다큐': 1, '첫': 1, '공개': 1, '중국': 1, '시진핑에': 1, '정치국': 1, '위원': 1, '보고': 1, '의무화': 1, '1인체제': 1, '확인': 1, '9년간': 1, '한': 2, '푼도': 1, '안': 1, '써야': 1, '집': 1, '장만': 1, '허리': 1, '휘는': 1, '신혼부부': 1, '달': 1, 'middot': 2, '화성': 1, '땅': 1, '사요': 1, '몰려든': 1, '사람들': 1, '우주': 1, '부동산': 2, '호황': 1, '朴': 1, '향한': 1, '일편단심': 1, '정호성의': 1, '몰락': 1, '중': 1, 'APEC': 1, '정상회담': 1, '전': 1, '사드': 1, '갈등': 1, '매듭': 1, '풀까': 1, '한국당': 1, 'TK': 1, '의원들': 1, '만찬회동': 1, 'TK가': 1, '마음': 1, '모으자': 1, '다짐': 1, '권상우': 1, '나': 1, '아픈데': 1, '골프약속': 1, '두': 1, '베테랑이': 1, '알려준': 1, '격투기의': 1, '품격': 1, '3루까지': 1, '단': 1, '10': 3, '76초': 1, '만점활약': 1, '버나디나': 1, '뉴스홈': 1, '연재': 1, '랭킹': 1, 'TV': 2, '미디어랩': 1, 'live': 1, '브레멘': 1, 'vs': 1, '아우크스': 1, '연예': 1, '스포츠': 3, '영화': 1, '자동차': 1, '현재': 6, '탭': 16, '1': 4, '전체': 4, '8': 1, '1위': 5, '양희은': 5, '2위': 5, '킬러들의': 5, '수다': 5, '3위': 5, '외상센터': 5, '4위': 5, '5위': 5, '봉만대': 5, '6위': 5, '7위': 5, '윤종신': 5, '8위': 5, '부산행': 5, '슬로우': 5, '10위': 5, '김건모': 5, '증시': 2, '휘발유': 1, '507': 1, '43': 1, '9652': 2, '전일대비': 2, '상승': 20, '0': 1, '25': 1, '달러환율': 1, '131': 1, '00': 1, '5': 1, '50': 1, '관련': 1, '링크모음': 1, '환율': 1, '운세': 1, 'uarr': 18, '380': 2, '367': 2, '신규진입': 2, '193': 2, '176': 2, '168': 2, '157': 2, '156': 2, '108': 2, '102': 2, '2017': 1, '29': 1, '23': 1, '31기준': 1, 'X닫기': 1, 'TV하이라이트': 2, '이하늬': 3, '매력': 2, '아직': 2, '아이': 3, '봤니': 2, '명장면': 2, '만드는': 2, '재미가': 2, '쏠쏠해': 2, '개그': 1, '콘서트': 1, '동영상': 16, '’고발부부’': 1, '유민상': 1, '알고보니': 1, '아버지': 1, '5분': 1, '전체관람가': 1, '가족보다': 1, '영화에': 1, '올인한': 1, '의리남': 1, '기태영': 1, '블랙': 1, '송승헌·고아라': 1, '무근본': 1, '떡볶이': 1, '데이트': 1, '나의': 1, '외사친': 1, '아들': 1, '부탄': 1, '초등학교에서의': 1, '아침': 1, '조회': 1, '드레스': 1, '여신': 1, '이하늬의': 1, '피팅': 1, '모습': 1, '대공개': 1, '어머니와': 1, '있을': 1, '땐': 1, '영락없는': 1, '현실': 1, '모녀': 1, '혼혈': 1, '메이크업이': 1, '잘': 1, '어울리는': 1, '그녀': 1, '피나는': 1, '노력으로': 1, '70kg에서': 1, '51kg로': 1, '무실점': 1, 'MVP': 1, '임기영': 1, 'KS도': 1, '즐긴': 1, '배짱투구': 1, 'V5': 1, '200호골': 1, '이동국': 1, '모두에게': 1, '감사': 1, '43세': 1, '9년': 1, '만에': 1, '감격적인': 1, '신나는': 1, '풍차': 1, '세레모니': 1, '기가': 1, '막힌': 1, '버저비터': 1, '깜짝': 1, '놀랄': 1, '정도로': 1, '정교한': 1, '디테일': 1, '먹을': 1, '수': 2, '있는': 2, 'BB크림': 1, '알고': 1, '봤더니': 1, '페트병으로': 1, '만들었다는데': 1, '대박': 1, '프로펠러': 1, '비행기': 1, '장난감': 1, '만들기': 2, '4': 2, '미즈넷': 1, '카카오스토리': 1, '티스토리': 1, '맨몸으로': 1, '할': 1, '전신운동': 1, '세': 1, '가지': 1, 'by': 4, '에이티포': 1, '끝없이': 1, '이어지는': 1, '함안뚝방의': 1, '가을': 1, '꽃길': 1, '『방쌤』': 1, '컵라면': 1, '용기로': 1, '데스크': 1, '수납': 1, '꽂이': 1, '삼성물산건설부문': 1, '창의력': 1, '길러주는': 1, '포도알': 1, '도형놀이': 1, '은벼리파파': 1, '1boon': 1, '스토리펀딩': 1, '7': 1, '홈': 1, '쿠킹': 1, '머니': 1, '동물': 1, '스타일': 1, 'Men': 1, '여행맛집': 1, '직장IN': 1, '뮤직': 1, '이번엔': 1, '부산으로': 1, '갑니다': 1, '검은사막': 2, '오아시스': 1, '페스티벌': 1, '춘리를': 2, '하라고요': 1, '하지만': 1, '인정할': 1, '수밖에': 1, '하단': 1, '강발': 1, '인정': 1, '순수예술가가': 1, '그린': 1, '이렇게': 1, '보니': 1, '층간': 1, '소음의': 1, '달인': 1, '쿵딱쿵': 1, '콘트롤러': 1, '동봉판': 1, '개봉기': 1, '쥐': 1, '잡듯': 1, '패자': 1, '거위의': 1, '배': 1, '가르지': 1, '않았다': 1, '배그': 1, '카카오게임즈': 1, '점점': 1, '더': 1, '기대': 1, '각성': 2, '업뎃기념': 1, '3': 1, '5성': 1, '계약권': 1, '받아가세요': 1, '노블레스': 1, '너무': 1, '많아서': 1, '뭐부터': 1, '맞추지': 1, '행복한': 1, '고민': 1, '아이러브니키': 1, '추천게임': 1, '감동을': 1, '기억한다면': 1, '뮤로': 1, '돌아오라': 1, '뮤': 1, '이그니션': 1, 'PLAY': 1, 'THE': 1, 'BEST': 1, '최고를': 1, '플레이하세요': 1, '피파온라인3': 1, '100억': 1, '뷰의': 1, '신화': 1, '웹RPG': 1, '神조자룡': 1, '신조자룡': 1, '최초의': 1, '여황제': 2, '전쟁을': 1, '시작하라': 1, '잘나가는': 1, '게임은': 1, '신규': 1, '서버에서': 1, '마법왕좌': 1, '미스틱': 1, '신들의': 1, '전쟁': 1, '사전알림': 1, '11': 1, '보기': 4, '추천갤러리': 2, '이미지': 2, '목록': 2, '공지사항': 1, '카카오': 1, '위치기반서비스': 1, '이용약관': 1, '변경': 1, '전체보기': 1, '소개': 1, '및': 1, '약관': 1, '회사소개': 1, '·': 9, '광고안내': 1, '검색등록': 1, '제휴문의': 1, '인재채용': 1, '서비스약관': 1, '청소년보호정책': 1, '개인정보처리방침': 1, '웹접근성안내': 1, '고객센터': 1, 'Copyright': 1, '©': 1, 'Kakao': 1, 'Corp': 1, 'All': 1, 'rights': 1, 'reserved': 1}\n"
     ]
    }
   ],
   "source": [
    "from urllib import request \n",
    "import string\n",
    " \n",
    "url = 'http://daum.net'\n",
    "f = request.urlopen(url)\n",
    "source_bytes = f.read()\n",
    "source = source_bytes.decode('utf-8')\n",
    "\n",
    "i = 0\n",
    "a = 0\n",
    "\n",
    "# HTML태그, Java script 제외\n",
    "for i in range(0, source.count('<!--')):\n",
    "    if source.find('<!--') != -1:\n",
    "        source = source.replace(source[source.find('<!--'):source.find('-->')+3:], \" \")\n",
    "\n",
    "for i in range(0, source.count('<')):\n",
    "    if source.find('<') != -1:\n",
    "        source = source.replace(source[source.find('<'):source.find('>')+1:], \" \")\n",
    "    if source.find('style') != -1:\n",
    "        source = source.replace(source[source.find('style'):source.find('</style>')+8:], \"\")\n",
    "    if source.find('script') != -1:\n",
    "        source = source.replace(source[source.find('script'):source.find('</script>')+9:], \"\")\n",
    "\n",
    "List = source.split()\n",
    "#print(List)\n",
    "#print('단어수: ', len(List))\n",
    "\n",
    "st = ' '.join(List)\n",
    "\n",
    "List = list(st)\n",
    "\n",
    "#구두문자 제거\n",
    "for i in range(0, len(List)):\n",
    "    for j in range(0, len(string.punctuation)):\n",
    "        if(List[i] == string.punctuation[j]):\n",
    "            List[i] = ' '\n",
    "\n",
    "st = ''.join(List)\n",
    "\n",
    "#구두문자가 제거된 문자열을 리스트로\n",
    "lst = st.split()\n",
    "#print(lst)\n",
    "\n",
    "\n",
    "# 사전\n",
    "dic = dict()\n",
    "for n in lst:\n",
    "    if n in dic:\n",
    "        dic[n] += 1\n",
    "    else:\n",
    "        dic[n] = 1\n",
    "        \n",
    "# 사전을 리스트로 만들어 출력\n",
    "listkey = dic.keys()\n",
    "listvalue = dic.values()\n",
    "\n",
    "# 각 단어들의 출력빈도를 사전형태로 출력\n",
    "print(dict(zip(listkey, listvalue)))"
   ]
  },
  {
   "cell_type": "code",
   "execution_count": 21,
   "metadata": {},
   "outputs": [
    {
     "name": "stdout",
     "output_type": "stream",
     "text": [
      "{'The': 5, 'New': 6, 'York': 4, 'Times': 5, 'Breaking': 1, 'News': 4, 'World': 2, 'Multimedia': 2, 'Top': 1, 'Got': 1, 'a': 4, 'confidential': 1, 'news': 1, 'tip': 1, 'offers': 1, 'several': 1, 'ways': 1, 'to': 5, 'get': 1, 'in': 6, 'touch': 1, 'with': 2, 'and': 4, 'provide': 1, 'materials': 1, 'our': 1, 'journalists': 1, 'Learn': 1, 'more': 2, 'Listen': 1, '‘The': 1, 'Washington’': 1, 'Ty': 1, 'Cobb': 1, 'White': 2, 'House': 2, 'lawyer': 1, 'speaks': 1, 'us': 1, 'about': 1, 'the': 5, 'special': 1, 'counsel’s': 1, 'investigation': 1, 'legal': 1, 'strategy': 1, 'that': 2, 'trademark': 1, 'handlebar': 1, 'mustache': 1, 'Audio': 1, 'Follow': 1, 'Washington': 1, 'Apple': 1, 'Podcasts': 1, 'Radio': 1, 'Public': 1, 'Stitcher': 1, 'Smarter': 1, 'Living': 2, 'Journalism': 1, 'matters': 1, 'More': 2, 'essential': 1, 'than': 1, 'ever': 1, 'Subscribe': 4, 'Neediest': 2, 'Cases': 2, 'Faith': 1, 'Moors': 1, '2': 1, 'Victims': 1, 'of': 3, 'Hurricane': 1, 'Sandy': 1, 'Life’s': 1, 'Storms': 1, 'After': 1, 'years': 1, 'disarray': 1, 'wake': 1, '2012': 1, 'hurricane': 1, 'retired': 1, 'Orthodox': 1, 'Jewish': 1, 'couple': 1, 'find': 1, 'calm': 1, 'new': 1, 'home': 1, 'aided': 1, 'by': 1, 'their': 1, 'unflinching': 1, 'faith': 1, 'God': 1, 'In': 1, 'its': 1, '106th': 1, 'year': 1, 'Fund': 1, 'has': 1, 'provided': 1, 'direct': 1, 'assistance': 1, 'those': 1, 'struggling': 1, 'beyond': 1, 'Donate': 1, 'now': 1, '»': 1, 'From': 1, 'Our': 1, 'Advertisers': 1, 'Loading': 1, 'times': 1, 'video': 1, 'explore': 1, 'all': 1, 'videos': 1, 'raquo': 1, 'Video': 4, 'Player': 1, 'Site': 1, 'Index': 1, 'Navigation': 1, 'U': 1, 'S': 1, 'Politics': 1, 'N': 4, 'Y': 4, 'Business': 1, 'Tech': 1, 'Science': 1, 'Health': 2, 'Sports': 1, 'Education': 2, 'Obituaries': 1, 'Today': 3, 's': 3, 'Paper': 1, 'Corrections': 1, 'Opinion': 3, 'Op': 2, 'Ed': 2, 'Columnists': 1, 'Editorials': 1, 'Contributors': 1, 'Letters': 1, 'Sunday': 1, 'Review': 1, 'Arts': 3, 'Art': 1, 'Design': 1, 'Books': 1, 'Dance': 1, 'Movies': 1, 'Music': 1, 'C': 3, 'Events': 3, 'Guide': 3, 'Television': 1, 'Theater': 1, 'Automobiles': 1, 'Crossword': 1, 'Food': 1, 'Fashion': 1, 'Style': 1, 'Jobs': 1, 'Magazine': 2, 'Real': 1, 'Estate': 1, 'T': 1, 'Travel': 1, 'Weddings': 1, 'Celebrations': 1, 'Listings': 1, 'Reader': 1, 'Center': 1, 'Classifieds': 1, 'Tools': 1, 'Services': 1, 'Photography': 1, 'NYT': 1, 'Store': 1, 'Journeys': 1, 'Manage': 1, 'My': 1, 'Account': 1, 'NYTCo': 1, 'Home': 1, 'Delivery': 1}\n"
     ]
    }
   ],
   "source": [
    "from urllib import request \n",
    "import string\n",
    " \n",
    "url = 'http://nytimes.com'\n",
    "f = request.urlopen(url)\n",
    "source_bytes = f.read()\n",
    "source = source_bytes.decode('utf-8')\n",
    "\n",
    "i = 0\n",
    "a = 0\n",
    "\n",
    "# HTML태그, Java script 제외\n",
    "for i in range(0, source.count('<!--')):\n",
    "    if source.find('<!--') != -1:\n",
    "        source = source.replace(source[source.find('<!--'):source.find('-->')+3:], \" \")\n",
    "\n",
    "for i in range(0, source.count('<')):\n",
    "    if source.find('<') != -1:\n",
    "        source = source.replace(source[source.find('<'):source.find('>')+1:], \" \")\n",
    "    if source.find('style') != -1:\n",
    "        source = source.replace(source[source.find('style'):source.find('</style>')+8:], \"\")\n",
    "    if source.find('script') != -1:\n",
    "        source = source.replace(source[source.find('script'):source.find('</script>')+9:], \"\")\n",
    "\n",
    "List = source.split()\n",
    "#print(List)\n",
    "#print('단어수: ', len(List))\n",
    "\n",
    "st = ' '.join(List)\n",
    "\n",
    "List = list(st)\n",
    "\n",
    "#구두문자 제거\n",
    "for i in range(0, len(List)):\n",
    "    for j in range(0, len(string.punctuation)):\n",
    "        if(List[i] == string.punctuation[j]):\n",
    "            List[i] = ' '\n",
    "\n",
    "st = ''.join(List)\n",
    "\n",
    "#구두문자가 제거된 문자열을 리스트로\n",
    "lst = st.split()\n",
    "#print(lst)\n",
    "\n",
    "\n",
    "# 사전\n",
    "dic = dict()\n",
    "for n in lst:\n",
    "    if n in dic:\n",
    "        dic[n] += 1\n",
    "    else:\n",
    "        dic[n] = 1\n",
    "        \n",
    "# 사전을 리스트로 만들어 출력\n",
    "listkey = dic.keys()\n",
    "listvalue = dic.values()\n",
    "\n",
    "# 각 단어들의 출력빈도를 사전형태로 출력\n",
    "print(dict(zip(listkey, listvalue)))"
   ]
  },
  {
   "cell_type": "markdown",
   "metadata": {
    "collapsed": true
   },
   "source": [
    "### 고찰\n",
    " - 마지막 문제에서 find와 replace 메소드를 이용해 자바스크립트, html태그, css 제거 하는 것이 시간이 오래걸렸지만, 결국 해내 기분이 좋았다. 시험 기간과 과제 제출 기간이 겹쳐 전 범위를 공부를 하고 코딩을 하다 보니 전 과제보다 강의자료를 들춰보는 일이 줄었으나 아직도 문자열이나 사전, 튜플, 리스트 같은 메소드는 머리에 제대로 박히지 않아 공부를 더 해야겠다고 느꼈다."
   ]
  },
  {
   "cell_type": "code",
   "execution_count": null,
   "metadata": {
    "collapsed": true
   },
   "outputs": [],
   "source": []
  }
 ],
 "metadata": {
  "kernelspec": {
   "display_name": "Python 3",
   "language": "python",
   "name": "python3"
  },
  "language_info": {
   "codemirror_mode": {
    "name": "ipython",
    "version": 3
   },
   "file_extension": ".py",
   "mimetype": "text/x-python",
   "name": "python",
   "nbconvert_exporter": "python",
   "pygments_lexer": "ipython3",
   "version": "3.6.1"
  }
 },
 "nbformat": 4,
 "nbformat_minor": 2
}
